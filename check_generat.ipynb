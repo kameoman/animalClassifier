{
 "cells": [
  {
   "cell_type": "code",
   "execution_count": 1,
   "id": "3d1e07ac",
   "metadata": {},
   "outputs": [
    {
     "name": "stderr",
     "output_type": "stream",
     "text": [
      "C:\\Users\\spide\\anaconda3\\envs\\tf140\\lib\\site-packages\\numpy\\core\\_asarray.py:136: VisibleDeprecationWarning: Creating an ndarray from ragged nested sequences (which is a list-or-tuple of lists-or-tuples-or ndarrays with different lengths or shapes) is deprecated. If you meant to do this, you must specify 'dtype=object' when creating the ndarray\n",
      "  return array(a, dtype, copy=False, order=order, subok=True)\n"
     ]
    }
   ],
   "source": [
    "from PIL import Image\n",
    "import os, glob\n",
    "import numpy as np\n",
    "from numpy.core.defchararray import array\n",
    "from sklearn import model_selection\n",
    "\n",
    "classes = [\"monkey\",\"boar\",\"crow\"]\n",
    "num_classes = len(classes)\n",
    "image_size = 50\n",
    "\n",
    "# 画像を読み込んで扱いやすいように配列（数値等に変換）\n",
    "\n",
    "X = []\n",
    "Y = []\n",
    "for index, classlabel in enumerate(classes):\n",
    "    photos_dir = \"./\" + classlabel\n",
    "    files = glob.glob(photos_dir + \"/*.jpg\")\n",
    "    for i, file in enumerate(files):\n",
    "        if i >= 150: break\n",
    "        image = Image.open(file)\n",
    "        image = image.convert(\"RGB\")\n",
    "        image = image.resize((image_size,image_size))\n",
    "        data = np.asarray(image)\n",
    "        X.append(data)\n",
    "        Y.append(index)\n",
    "\n",
    "X = np.array(X)\n",
    "Y = np.array(Y)\n",
    "\n",
    "# それぞれのデータをテストと学習に分けて保存する\n",
    "X_train, X_test, y_train, y_test = model_selection.train_test_split(X,Y)\n",
    "xy = (X_train, X_test, y_train, y_test)\n",
    "np.save(\"./animal.npy\",xy)"
   ]
  },
  {
   "cell_type": "code",
   "execution_count": 2,
   "id": "38c04598",
   "metadata": {},
   "outputs": [
    {
     "data": {
      "text/plain": [
       "337"
      ]
     },
     "execution_count": 2,
     "metadata": {},
     "output_type": "execute_result"
    }
   ],
   "source": [
    "len(X_train)"
   ]
  },
  {
   "cell_type": "code",
   "execution_count": 3,
   "id": "4c390cd7",
   "metadata": {},
   "outputs": [
    {
     "data": {
      "text/plain": [
       "113"
      ]
     },
     "execution_count": 3,
     "metadata": {},
     "output_type": "execute_result"
    }
   ],
   "source": [
    "len(X_test)"
   ]
  },
  {
   "cell_type": "code",
   "execution_count": 4,
   "id": "c1ca60d5",
   "metadata": {},
   "outputs": [
    {
     "data": {
      "text/plain": [
       "337"
      ]
     },
     "execution_count": 4,
     "metadata": {},
     "output_type": "execute_result"
    }
   ],
   "source": [
    "len(y_train)"
   ]
  },
  {
   "cell_type": "code",
   "execution_count": 5,
   "id": "e44de8c3",
   "metadata": {},
   "outputs": [
    {
     "data": {
      "text/plain": [
       "113"
      ]
     },
     "execution_count": 5,
     "metadata": {},
     "output_type": "execute_result"
    }
   ],
   "source": [
    "len(y_test)"
   ]
  },
  {
   "cell_type": "code",
   "execution_count": 6,
   "id": "610b9bd7",
   "metadata": {},
   "outputs": [
    {
     "data": {
      "text/plain": [
       "array([[[115,  91,  59],\n",
       "        [127, 108,  80],\n",
       "        [ 93,  78,  56],\n",
       "        ...,\n",
       "        [158, 131,  92],\n",
       "        [131, 107,  75],\n",
       "        [131, 106,  75]],\n",
       "\n",
       "       [[ 89,  70,  47],\n",
       "        [ 91,  73,  52],\n",
       "        [ 95,  76,  57],\n",
       "        ...,\n",
       "        [166, 140, 107],\n",
       "        [144, 118,  87],\n",
       "        [159, 132, 101]],\n",
       "\n",
       "       [[130, 102,  64],\n",
       "        [137, 110,  74],\n",
       "        [114,  91,  57],\n",
       "        ...,\n",
       "        [142, 118,  80],\n",
       "        [128, 106,  68],\n",
       "        [160, 138, 101]],\n",
       "\n",
       "       ...,\n",
       "\n",
       "       [[101,  80,  59],\n",
       "        [ 77,  64,  49],\n",
       "        [ 70,  58,  46],\n",
       "        ...,\n",
       "        [104,  86,  65],\n",
       "        [131, 110,  85],\n",
       "        [116,  97,  72]],\n",
       "\n",
       "       [[ 94,  79,  60],\n",
       "        [ 90,  76,  54],\n",
       "        [ 95,  79,  59],\n",
       "        ...,\n",
       "        [ 95,  78,  57],\n",
       "        [ 82,  67,  45],\n",
       "        [ 80,  65,  46]],\n",
       "\n",
       "       [[ 69,  58,  40],\n",
       "        [ 82,  70,  48],\n",
       "        [101,  85,  65],\n",
       "        ...,\n",
       "        [107,  90,  65],\n",
       "        [ 70,  54,  38],\n",
       "        [ 83,  67,  53]]], dtype=uint8)"
      ]
     },
     "execution_count": 6,
     "metadata": {},
     "output_type": "execute_result"
    }
   ],
   "source": [
    "X_train[100]"
   ]
  },
  {
   "cell_type": "code",
   "execution_count": 7,
   "id": "3cd9dfed",
   "metadata": {},
   "outputs": [
    {
     "data": {
      "text/plain": [
       "1"
      ]
     },
     "execution_count": 7,
     "metadata": {},
     "output_type": "execute_result"
    }
   ],
   "source": [
    "y_train[100]"
   ]
  },
  {
   "cell_type": "code",
   "execution_count": null,
   "id": "db31fd44",
   "metadata": {},
   "outputs": [],
   "source": []
  }
 ],
 "metadata": {
  "kernelspec": {
   "display_name": "Python 3 (ipykernel)",
   "language": "python",
   "name": "python3"
  },
  "language_info": {
   "codemirror_mode": {
    "name": "ipython",
    "version": 3
   },
   "file_extension": ".py",
   "mimetype": "text/x-python",
   "name": "python",
   "nbconvert_exporter": "python",
   "pygments_lexer": "ipython3",
   "version": "3.8.11"
  }
 },
 "nbformat": 4,
 "nbformat_minor": 5
}
